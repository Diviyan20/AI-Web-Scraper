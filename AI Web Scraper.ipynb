{
 "cells": [
  {
   "cell_type": "code",
   "execution_count": 1,
   "id": "7a674236-f1a0-49e6-ac89-dc78a9564035",
   "metadata": {},
   "outputs": [],
   "source": [
    "import os\n",
    "import gradio as gr\n",
    "import requests\n",
    "from openai import OpenAI\n",
    "from bs4 import BeautifulSoup\n",
    "from dotenv import load_dotenv"
   ]
  },
  {
   "cell_type": "code",
   "execution_count": 2,
   "id": "2409a2cd-f610-4b23-9d0f-e458706a2d71",
   "metadata": {},
   "outputs": [
    {
     "name": "stdout",
     "output_type": "stream",
     "text": [
      "API Key looks good so far\n"
     ]
    }
   ],
   "source": [
    "load_dotenv(override=True)\n",
    "openai_api_key = os.getenv('OPENAI_API_KEY')\n",
    "\n",
    "if openai_api_key:\n",
    "    print(\"API Key looks good so far\")\n",
    "else:\n",
    "    print(\"No API Key is found!\")"
   ]
  },
  {
   "cell_type": "code",
   "execution_count": 3,
   "id": "5f8c64f0-eb5d-41d2-ab37-b81610d216a6",
   "metadata": {},
   "outputs": [],
   "source": [
    "openai = OpenAI(api_key=openai_api_key)\n",
    "\n",
    "system_prompt = (\n",
    "    \"You are a smart and helpful assitant. \"\n",
    "    \"You analyze and summmarize content from websites. Respond in markdown.\"\n",
    ")"
   ]
  },
  {
   "cell_type": "code",
   "execution_count": 4,
   "id": "a8058987-1a46-4fe6-ad46-9149272a5e94",
   "metadata": {},
   "outputs": [],
   "source": [
    "def stream_gpt(prompt):\n",
    "    messages= [\n",
    "        {\"role\": \"system\", \"content\": system_prompt},\n",
    "        {\"role\": \"user\", \"content\": prompt}\n",
    "    ]\n",
    "\n",
    "    stream = openai.chat.completions.create(\n",
    "        model =\"gpt-4o-mini\",\n",
    "        messages = messages,\n",
    "    stream = True\n",
    "    )\n",
    "\n",
    "    result=\"\"\n",
    "\n",
    "    for chunk in stream:\n",
    "        result += chunk.choices[0].delta.content or \"\"\n",
    "        yield result"
   ]
  },
  {
   "cell_type": "code",
   "execution_count": 5,
   "id": "be6b0731-9a7a-497c-9052-0ceab4084ac8",
   "metadata": {},
   "outputs": [],
   "source": [
    "class Website:\n",
    "    url: str\n",
    "    title: str\n",
    "    text: str\n",
    "\n",
    "    def __init__(self, url):\n",
    "        self.url = url\n",
    "\n",
    "        try:\n",
    "            response = requests.get(url, timeout =10)\n",
    "            response.raise_for_status()\n",
    "            self.body = response.content\n",
    "        except requests.exceptions.RequestException as e:\n",
    "            self.title =\"Error\"\n",
    "            self.text = f\"Failed to fetch!\"\n",
    "            return\n",
    "\n",
    "        soup = BeautifulSoup(self.body, 'html.parser')\n",
    "        self.title = soup.title.string if soup.title else {\"No title found\"}\n",
    "\n",
    "        self.title = soup.title.string.strip() if soup.title else \"No title found\"\n",
    "\n",
    "        if soup.body:\n",
    "            for irrelevant in soup.body([\"script\", \"style\", \"img\", \"input\"]):\n",
    "                irrelevant.decompose()\n",
    "            self.text = soup.body.get_text(separator=\"\\n\", strip=True)\n",
    "        else:\n",
    "            self.text = \"No body content found.\"\n",
    "\n",
    "    def get_contents(self):\n",
    "        return f\"Website Title:\\n{self.title}\\nWebsite Content:\\n{self.text}\\n\\n\""
   ]
  },
  {
   "cell_type": "code",
   "execution_count": 6,
   "id": "b93ca600-d88b-459f-b5d9-ace904fad5c9",
   "metadata": {},
   "outputs": [],
   "source": [
    "def scrape_and_analyze(url):\n",
    "    website = Website(url)\n",
    "\n",
    "    if website.text.startswith(\"Failed to fetch!\"):\n",
    "        yield website.text\n",
    "        return\n",
    "    prompt = f\"Analyze the following website and summarize its key insights:\\n\\n{website.get_contents()}\"\n",
    "\n",
    "    yield from stream_gpt(prompt)"
   ]
  },
  {
   "cell_type": "code",
   "execution_count": 7,
   "id": "5a5acef5-4c7b-4f35-a934-758f23bb7f50",
   "metadata": {},
   "outputs": [
    {
     "name": "stdout",
     "output_type": "stream",
     "text": [
      "* Running on local URL:  http://127.0.0.1:7860\n",
      "* To create a public link, set `share=True` in `launch()`.\n"
     ]
    },
    {
     "data": {
      "text/html": [
       "<div><iframe src=\"http://127.0.0.1:7860/\" width=\"100%\" height=\"500\" allow=\"autoplay; camera; microphone; clipboard-read; clipboard-write;\" frameborder=\"0\" allowfullscreen></iframe></div>"
      ],
      "text/plain": [
       "<IPython.core.display.HTML object>"
      ]
     },
     "metadata": {},
     "output_type": "display_data"
    },
    {
     "data": {
      "text/plain": []
     },
     "execution_count": 7,
     "metadata": {},
     "output_type": "execute_result"
    }
   ],
   "source": [
    "gr.Interface(\n",
    "    fn = scrape_and_analyze,\n",
    "    inputs=[gr.Textbox(label=\"Landing page URL including http:// or https://\")],\n",
    "    outputs=[gr.Markdown(label=\"Website Analysis\")],\n",
    "    flagging_mode=\"never\"\n",
    ").launch()"
   ]
  },
  {
   "cell_type": "code",
   "execution_count": null,
   "id": "5b0c38c9-9fab-45f6-9719-be0d8c7a76ac",
   "metadata": {},
   "outputs": [],
   "source": []
  }
 ],
 "metadata": {
  "kernelspec": {
   "display_name": "Python 3 (ipykernel)",
   "language": "python",
   "name": "python3"
  },
  "language_info": {
   "codemirror_mode": {
    "name": "ipython",
    "version": 3
   },
   "file_extension": ".py",
   "mimetype": "text/x-python",
   "name": "python",
   "nbconvert_exporter": "python",
   "pygments_lexer": "ipython3",
   "version": "3.13.5"
  }
 },
 "nbformat": 4,
 "nbformat_minor": 5
}
